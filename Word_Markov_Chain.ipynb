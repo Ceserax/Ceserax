{
  "nbformat": 4,
  "nbformat_minor": 0,
  "metadata": {
    "colab": {
      "name": "Word_Markov_Chain.ipynb",
      "provenance": [],
      "authorship_tag": "ABX9TyMyZgPuAWpGuRuxv8+BQ3v+",
      "include_colab_link": true
    },
    "kernelspec": {
      "name": "python3",
      "display_name": "Python 3"
    },
    "language_info": {
      "name": "python"
    }
  },
  "cells": [
    {
      "cell_type": "markdown",
      "metadata": {
        "id": "view-in-github",
        "colab_type": "text"
      },
      "source": [
        "<a href=\"https://colab.research.google.com/github/Ceserax/Ceserax/blob/main/Word_Markov_Chain.ipynb\" target=\"_parent\"><img src=\"https://colab.research.google.com/assets/colab-badge.svg\" alt=\"Open In Colab\"/></a>"
      ]
    },
    {
      "cell_type": "code",
      "metadata": {
        "id": "3sfRUa4iLXgO"
      },
      "source": [
        "from urllib.request import urlopen\n",
        "from random import randint\n",
        "def wordListSum(wordList):\n",
        "    sum = 0\n",
        "    for word, value in wordList.items():\n",
        "      sum += value\n",
        "    return sum\n",
        "\n"
      ],
      "execution_count": 28,
      "outputs": []
    },
    {
      "cell_type": "code",
      "metadata": {
        "id": "kHtfI9goLxAE"
      },
      "source": [
        "def retrieveRandomWord(wordList):\n",
        "    randIndex = randint(1, wordListSum(wordList))\n",
        "    for word, value in wordList.items():\n",
        "        randIndex -= value\n",
        "        if randIndex <= 0:\n",
        "            return word"
      ],
      "execution_count": 29,
      "outputs": []
    },
    {
      "cell_type": "code",
      "metadata": {
        "colab": {
          "base_uri": "https://localhost:8080/"
        },
        "id": "CmbHFd4tL9U7",
        "outputId": "285fc6c9-6b7f-4fe9-8792-46d1639ff1c1"
      },
      "source": [
        "def buildWordDict(text):\n",
        "    #Remove newlines and quotes\n",
        "    text = text.replace(\"\\n\", \" \");\n",
        "    text = text.replace(\"\\\"\", \"\");\n",
        "    #Make sure punctuation marks are treated as their own \"words,\"\n",
        "    #so that they will be included in the Markov chain\n",
        "    punctuation = [',','.',';',':']\n",
        "    for symbol in punctuation:\n",
        "        text = text.replace(symbol, \" \"+symbol+\" \");  \n",
        "\n",
        "    words = text.split(\" \")\n",
        "    #Filter out empty words\n",
        "    words = [word for word in words if word != \"\"]\n",
        "    wordDict = {}\n",
        "    for i in range(1, len(words)):\n",
        "        if words[i-1] not in wordDict:\n",
        "         #Create a new dictionary for this word\n",
        "          wordDict[words[i-1]] = {}\n",
        "        if words[i] not in wordDict[words[i-1]]:\n",
        "            wordDict[words[i-1]][words[i]] = 0\n",
        "        wordDict[words[i-1]][words[i]] = wordDict[words[i-1]][words[i]] + 1\n",
        "    return wordDict \n",
        "\n",
        "text = str(urlopen(\"http://pythonscraping.com/files/inaugurationSpeech.txt\")\n",
        "          .read(), 'utf-8')\n",
        "wordDict = buildWordDict(text)\n",
        "#Generate a Markov chain of length 100\n",
        "length = 1000\n",
        "chain = \"\"\n",
        "currentWord = \"I\"\n",
        "for i in range(0, length):\n",
        "    chain += currentWord+\" \"\n",
        "    currentWord = retrieveRandomWord(wordDict[currentWord])\n",
        "print(chain)"
      ],
      "execution_count": 36,
      "outputs": [
        {
          "output_type": "stream",
          "text": [
            "I consent to the leading principle the destruction of power to afford a part of the Constitution has exalted station according to the government which their pockets , but the spirit of that the Congress the same persons at this that of a common copartnership . It is an argument acquires additional force from such deprivation is one might be productive of distrust and I have ultimately received the Constitution should give firmness and neck toleration of the most important of products , it may be claimed from the currency . You will be supposed violation ; others , is not defined by the spirit of the source in every year among the extent of the respective parties to monarchy , as I believe with every means placed in our system to be realized by the allies which in the potent influence in common copartnership . He should be warped and the pledges and powerful fleet . Jefferson early Presidents above referred to all the management of the Government or continue for the spirit of moderation and a party in the great good to them to preserve the delicate character of constitutional principle that Almighty Power which have dreamed 'of their management of my fellow-citizens a few even by local authorities , hitherto preserved to the Roman , of the right to their advice as respects in principle certainly is therefore not granted and strengthens with the country . And it has endowed them . I assure them by causes inherent in the delusion under which the tie of conduct of the press is concerned the Constitution (the legislative branch of our own relief . On the wants and what I shall stand either by any of the people against foreign nation , and consequently in our honor of the more than that the object . The latter condition when exercised by the principle certainly assigns to carry into effect the true and submit to remove a spirit is our most stupid men ; that the State authorities of our extensive and a moment have been in the character of each other words used to which belong to the source in his fellow-man . Some of the legislative body by the United States accept a motive . Those of Columbia? Such a summary a necessary to its control the Executive is to be from whom introduced--a minister or dispel their persons at my intention to keep us to that of the elder Brutus and our constant and that the Curtii and dispassionate investigation will I can conceive , as a republic , predictions were made , and flattered with his sense of the power in all the divorce which assumes the common with you , as settled policy . It can never having made in the amendatory power precisely equal to a plural executive . The outline of liberty . It was the legislation where the freedom of these is union of a necessary burdens to increase of the nation tarnished by his country's liberator . There were never be used in the decision of an alleged cause which treats of the duty of usury , as to the Executive party for talent and free institutions does not only by Mr . It should govern is the leading States and justice has been granted by its members which compose one nation in its members , and forbearance for their direction in the public revenues , that any measure better understand the public money a formidable instrument of the conduct of conformity to have spoken of their will bear with whose existence was intended to our parent of Executive which it appears to me the arrangement and solemn to their best of devotion to that exists and be highly expedient , to secure the Constitution prescribes as the Curtii and Navy of a rigid adherence to meet in exercising this sacred privilege of Caesar to recommend measures to repeat the officer at this character of its members is himself bound by divine right to me to make . We admit of them by which are not intended to power from the character which our Government and vigor , of principles and intolerant spirit antagonist principle certainly assigns to all the demagogue rendered harmless . It could not clearly see that of half a few even dangerous temptations to the judiciary , great divisions of my opinion at one of the title of one mode of the Constitution making the unwillingness of Columbia can long as well as a motive may regret anything but harmony with them , no aid of supporting the lapse of some umpire from this grant of government which the destruction of many of our system to that officer at least , from those essentially necessary employment of men's opinions have been always justly regard the duty of our country for purposes compose it is the American citizen of any sinister or speaking , not included in excellence those to adopt measures and hitherto preserved , but to suppose from the remembrance of our best means and safety from it exclusively under rules prescribed by Mr . Long the effect for annual magistrates or pass all the Legislature upon an office of alleged cause which it may be used in the want of that country in the love of despotism . Caesar became the United States governments , if it is called upon the measures recommended in fervently commending every tendency if not only with our constitutional principle , so . On an affectionate attachment to the leading principle that portion of their part effected by men are attributable to betray . But it appears strange , thirdly , that point their best interests--hostile to the Constitution of men of the acts of a Roman Emperor , these there is the others . It was wanting no jarring . But with the character , no one's observance , as to Congress by the confident hopes of my aid \n"
          ],
          "name": "stdout"
        }
      ]
    }
  ]
}